{
  "nbformat": 4,
  "nbformat_minor": 0,
  "metadata": {
    "colab": {
      "provenance": []
    },
    "kernelspec": {
      "name": "python3",
      "display_name": "Python 3"
    },
    "language_info": {
      "name": "python"
    }
  },
  "cells": [
    {
      "cell_type": "markdown",
      "source": [
        "## Importações e Informações do dataset"
      ],
      "metadata": {
        "id": "F1EmnLb4J3-w"
      }
    },
    {
      "cell_type": "code",
      "execution_count": 1,
      "metadata": {
        "id": "CnnD-HcMIkGu",
        "colab": {
          "base_uri": "https://localhost:8080/"
        },
        "outputId": "67677fe8-a7ba-498d-e337-4a4a9f87f2ff"
      },
      "outputs": [
        {
          "output_type": "stream",
          "name": "stdout",
          "text": [
            "Primeiros registros do dataset:\n",
            "\n",
            "\n",
            "Tipos de dados no dataset:\n",
            "\n",
            "USMER                    int64\n",
            "MEDICAL_UNIT             int64\n",
            "SEX                      int64\n",
            "PATIENT_TYPE             int64\n",
            "DATE_DIED               object\n",
            "INTUBED                  int64\n",
            "PNEUMONIA                int64\n",
            "AGE                      int64\n",
            "PREGNANT                 int64\n",
            "DIABETES                 int64\n",
            "COPD                     int64\n",
            "ASTHMA                   int64\n",
            "INMSUPR                  int64\n",
            "HIPERTENSION             int64\n",
            "OTHER_DISEASE            int64\n",
            "CARDIOVASCULAR           int64\n",
            "OBESITY                  int64\n",
            "RENAL_CHRONIC            int64\n",
            "TOBACCO                  int64\n",
            "CLASIFFICATION_FINAL     int64\n",
            "ICU                      int64\n",
            "dtype: object\n"
          ]
        }
      ],
      "source": [
        "# Importações necessárias\n",
        "import pandas as pd\n",
        "import numpy as np\n",
        "import seaborn as sns\n",
        "import matplotlib.pyplot as plt\n",
        "from sklearn.feature_selection import SelectKBest, f_classif\n",
        "from sklearn.model_selection import train_test_split\n",
        "from sklearn.preprocessing import StandardScaler\n",
        "from sklearn.decomposition import PCA\n",
        "from sklearn.linear_model import Perceptron\n",
        "from sklearn.metrics import classification_report, confusion_matrix, accuracy_score\n",
        "\n",
        "# Carregamento dos dados\n",
        "file_path = '/content/drive/MyDrive/covid_data.csv'\n",
        "data = pd.read_csv(file_path)\n",
        "\n",
        "# Visualização dos dados\n",
        "print(\"Primeiros registros do dataset:\\n\")\n",
        "data.head()\n",
        "\n",
        "# Visualização dos tipos de dados\n",
        "print(\"\\nTipos de dados no dataset:\\n\")\n",
        "print(data.dtypes)"
      ]
    },
    {
      "cell_type": "markdown",
      "source": [
        "## Pré-processamento"
      ],
      "metadata": {
        "id": "dJQQLiDdJ-pi"
      }
    },
    {
      "cell_type": "code",
      "source": [
        "# Tratamento de valores faltantes (se necessário)\n",
        "data = data.dropna()\n",
        "\n",
        "# Transformação de atributos categóricos para numéricos\n",
        "categorical_columns = data.select_dtypes(include=['object']).columns\n",
        "data = pd.get_dummies(data, columns=categorical_columns)\n",
        "\n",
        "# Amostragem do dataset para evitar estouro de memória\n",
        "data_sampled = data.sample(n=10000, random_state=42)  # Ajuste o valor conforme necessário\n",
        "\n",
        "# Separação entre atributos (X) e rótulos (y)\n",
        "X = data_sampled.drop(columns=['CLASIFFICATION_FINAL'])\n",
        "y = data_sampled['CLASIFFICATION_FINAL']\n",
        "\n",
        "# Divisão do conjunto de dados em treinamento e teste\n",
        "X_train, X_test, y_train, y_test = train_test_split(X, y, test_size=0.2, random_state=42)\n",
        "\n",
        "# Normalização dos dados\n",
        "scaler = StandardScaler()\n",
        "X_train = scaler.fit_transform(X_train)\n",
        "X_test = scaler.transform(X_test)\n",
        "\n",
        "# Seleção de atributos\n",
        "select_k_best = SelectKBest(f_classif, k=50)  # Mantém 50 atributos mais relevantes\n",
        "X_train = select_k_best.fit_transform(X_train, y_train)\n",
        "X_test = select_k_best.transform(X_test)\n",
        "\n",
        "# Redução da dimensionalidade usando PCA\n",
        "pca = PCA(n_components=0.95)  # Mantém 95% da variância explicada\n",
        "X_train = pca.fit_transform(X_train)\n",
        "X_test = pca.transform(X_test)"
      ],
      "metadata": {
        "id": "eyIHhEpuJMHp",
        "colab": {
          "base_uri": "https://localhost:8080/"
        },
        "outputId": "b801895e-8930-45ee-cecf-65c77ca4abe0"
      },
      "execution_count": 2,
      "outputs": [
        {
          "output_type": "stream",
          "name": "stderr",
          "text": [
            "/usr/local/lib/python3.10/dist-packages/sklearn/feature_selection/_univariate_selection.py:112: UserWarning: Features [ 19  20  21  22  24  26  29  30  31  32  34  36  38  42  43  44  45  46\n",
            "  47  48  53  54  55  56  57  59  63  64  65  66  67  68  69  70  71  75\n",
            "  76  77  78  79  80  81  82  83  85  89  90  91  92  93  94  95  96  97\n",
            "  98 104 105 106 108 109 110 111 116 117 118 119 120 121 122 124 128 129\n",
            " 130 131 132 133 134 135 136 137 141 142 143 144 145 146 147 148 149 150\n",
            " 154 155 157 158 161 166 167 168 169 170 172 173 177 178 179 180 181 182\n",
            " 183 184 185 187 191 192 193 194 195 196 197 198 200 204 205 206 207 209\n",
            " 210 211 213 217 218 219 220 222 223 224 225 227 231 233 234 235 236 237\n",
            " 239 241 245 246 247 248 250 251 252 253 254 256 260 261 262 263 264 265\n",
            " 266 267 268 270 274 275 276 277 279 281 286 287 288 289 290 291 292 293\n",
            " 295 299 300 301 302 303 304 305 306 307 308 313 314 315 316 317 318 319\n",
            " 320 321 322 324 328 329 330 331 332 333 334 335 336 338 343 344 345 346\n",
            " 347 348 349 350 351 352 354 357 358 359 360 361 362 363 364 365 366 367\n",
            " 368 372 373 374 375 376 377 378 379 385 386 387 388 389 390 391 392 398\n",
            " 399 400 402 404 408 409 410 411 412 416 417 418] are constant.\n",
            "  warnings.warn(\"Features %s are constant.\" % constant_features_idx, UserWarning)\n",
            "/usr/local/lib/python3.10/dist-packages/sklearn/feature_selection/_univariate_selection.py:113: RuntimeWarning: invalid value encountered in divide\n",
            "  f = msb / msw\n"
          ]
        }
      ]
    },
    {
      "cell_type": "markdown",
      "source": [
        "## Regressão Linear"
      ],
      "metadata": {
        "id": "AWJThPJ9KAex"
      }
    },
    {
      "cell_type": "code",
      "source": [
        "# Criação e treinamento do Perceptron\n",
        "clf = Perceptron()\n",
        "clf.fit(X_train, y_train)\n",
        "\n",
        "# Predição e avaliação do modelo\n",
        "y_pred = clf.predict(X_test)\n",
        "\n",
        "# Avaliação do modelo\n",
        "print(\"Matriz de Confusão:\\n\\n\")\n",
        "conf_matrix = confusion_matrix(y_test, y_pred)\n",
        "print(conf_matrix)\n",
        "\n",
        "print(\"\\nRelatório de Classificação:\\n\\n\")\n",
        "print(classification_report(y_test, y_pred))\n",
        "print(\"\\nAcurácia:\")\n",
        "print(accuracy_score(y_test, y_pred))\n",
        "\n",
        "# Visualização da matriz de confusão\n",
        "plt.figure(figsize=(7, 4))\n",
        "sns.heatmap(conf_matrix, annot=True, fmt='d', cmap='Blues')\n",
        "plt.title('Matriz de Confusão')\n",
        "plt.xlabel('Predicted')\n",
        "plt.ylabel('Actual')\n",
        "plt.show()"
      ],
      "metadata": {
        "id": "X_U8rjEZJXx6",
        "colab": {
          "base_uri": "https://localhost:8080/",
          "height": 1000
        },
        "outputId": "d2003d4f-1a79-4eac-dc2f-4f8fdde6505a"
      },
      "execution_count": 3,
      "outputs": [
        {
          "output_type": "stream",
          "name": "stdout",
          "text": [
            "Matriz de Confusão:\n",
            "\n",
            "\n",
            "[[  0   0   6   0   0   5   5]\n",
            " [  0   0   6   0   0   0   0]\n",
            " [  0   0 435   2   1 147  99]\n",
            " [  0   0   2   0   0   1   1]\n",
            " [  0   0  43   1   0  14   9]\n",
            " [  2   0 139   0   3  60  37]\n",
            " [ 10   0 532   2   7 273 158]]\n",
            "\n",
            "Relatório de Classificação:\n",
            "\n",
            "\n",
            "              precision    recall  f1-score   support\n",
            "\n",
            "           1       0.00      0.00      0.00        16\n",
            "           2       0.00      0.00      0.00         6\n",
            "           3       0.37      0.64      0.47       684\n",
            "           4       0.00      0.00      0.00         4\n",
            "           5       0.00      0.00      0.00        67\n",
            "           6       0.12      0.25      0.16       241\n",
            "           7       0.51      0.16      0.24       982\n",
            "\n",
            "    accuracy                           0.33      2000\n",
            "   macro avg       0.14      0.15      0.13      2000\n",
            "weighted avg       0.39      0.33      0.30      2000\n",
            "\n",
            "\n",
            "Acurácia:\n",
            "0.3265\n"
          ]
        },
        {
          "output_type": "stream",
          "name": "stderr",
          "text": [
            "/usr/local/lib/python3.10/dist-packages/sklearn/metrics/_classification.py:1344: UndefinedMetricWarning: Precision and F-score are ill-defined and being set to 0.0 in labels with no predicted samples. Use `zero_division` parameter to control this behavior.\n",
            "  _warn_prf(average, modifier, msg_start, len(result))\n",
            "/usr/local/lib/python3.10/dist-packages/sklearn/metrics/_classification.py:1344: UndefinedMetricWarning: Precision and F-score are ill-defined and being set to 0.0 in labels with no predicted samples. Use `zero_division` parameter to control this behavior.\n",
            "  _warn_prf(average, modifier, msg_start, len(result))\n",
            "/usr/local/lib/python3.10/dist-packages/sklearn/metrics/_classification.py:1344: UndefinedMetricWarning: Precision and F-score are ill-defined and being set to 0.0 in labels with no predicted samples. Use `zero_division` parameter to control this behavior.\n",
            "  _warn_prf(average, modifier, msg_start, len(result))\n"
          ]
        },
        {
          "output_type": "display_data",
          "data": {
            "text/plain": [
              "<Figure size 700x400 with 2 Axes>"
            ],
            "image/png": "[encoded data removed]"
          },
          "metadata": {}
        }
      ]
    }
  ]
}