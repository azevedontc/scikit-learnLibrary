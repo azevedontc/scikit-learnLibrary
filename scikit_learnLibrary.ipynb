{
  "nbformat": 4,
  "nbformat_minor": 0,
  "metadata": {
    "colab": {
      "provenance": [],
      "mount_file_id": "1wLmWwOaPhSBJKvUkNTwN0bLJW4-XQzVr",
      "authorship_tag": "ABX9TyOwuOM19kciHUAnxNgit75R",
      "include_colab_link": true
    },
    "kernelspec": {
      "name": "python3",
      "display_name": "Python 3"
    },
    "language_info": {
      "name": "python"
    }
  },
  "cells": [
    {
      "cell_type": "markdown",
      "metadata": {
        "id": "view-in-github",
        "colab_type": "text"
      },
      "source": [
        "<a href=\"https://colab.research.google.com/github/azevedontc/scikit-learnLibrary/blob/main/scikit_learnLibrary.ipynb\" target=\"_parent\"><img src=\"https://colab.research.google.com/assets/colab-badge.svg\" alt=\"Open In Colab\"/></a>"
      ]
    },
    {
      "cell_type": "markdown",
      "source": [
        "# Importações e Preparação do Dataset"
      ],
      "metadata": {
        "id": "26cWG_ciKyBD"
      }
    },
    {
      "cell_type": "code",
      "execution_count": 1,
      "metadata": {
        "id": "cfbabz8RCKGF"
      },
      "outputs": [],
      "source": [
        "# Importações necessárias\n",
        "import pandas as pd\n",
        "from sklearn.model_selection import train_test_split\n",
        "from sklearn.preprocessing import StandardScaler\n",
        "from sklearn.metrics import classification_report\n",
        "from sklearn.tree import DecisionTreeClassifier\n",
        "from sklearn.svm import SVC\n",
        "from sklearn.neighbors import KNeighborsClassifier\n",
        "from sklearn.naive_bayes import GaussianNB, CategoricalNB\n",
        "from sklearn.linear_model import LinearRegression, Perceptron\n",
        "from sklearn.impute import SimpleImputer"
      ]
    },
    {
      "cell_type": "code",
      "source": [
        "# Carregar o dataset\n",
        "df = pd.read_csv(\"Covid Data.csv\")"
      ],
      "metadata": {
        "id": "asiIUmvkEFJ-"
      },
      "execution_count": 2,
      "outputs": []
    },
    {
      "cell_type": "code",
      "source": [
        "# Usei para não errar o nome das colunas no pré-processamento\n",
        "print(df.columns)"
      ],
      "metadata": {
        "colab": {
          "base_uri": "https://localhost:8080/"
        },
        "id": "cD_w-kG8Es8u",
        "outputId": "e9a9a330-386c-4adb-d3c2-0ccebbf92561"
      },
      "execution_count": 3,
      "outputs": [
        {
          "output_type": "stream",
          "name": "stdout",
          "text": [
            "Index(['USMER', 'MEDICAL_UNIT', 'SEX', 'PATIENT_TYPE', 'DATE_DIED', 'INTUBED',\n",
            "       'PNEUMONIA', 'AGE', 'PREGNANT', 'DIABETES', 'COPD', 'ASTHMA', 'INMSUPR',\n",
            "       'HIPERTENSION', 'OTHER_DISEASE', 'CARDIOVASCULAR', 'OBESITY',\n",
            "       'RENAL_CHRONIC', 'TOBACCO', 'CLASIFFICATION_FINAL', 'ICU'],\n",
            "      dtype='object')\n"
          ]
        }
      ]
    },
    {
      "cell_type": "markdown",
      "source": [
        "# Pré-processamento"
      ],
      "metadata": {
        "id": "u702v-_VG2Ir"
      }
    },
    {
      "cell_type": "code",
      "source": [
        "# Substituir valores específicos por NaN\n",
        "df.replace({97: None, 99: None, '9999-99-99': None}, inplace=True)\n",
        "\n",
        "# Verificar e imputar valores faltantes\n",
        "imputer = SimpleImputer(strategy='most_frequent')\n",
        "df_imputed = pd.DataFrame(imputer.fit_transform(df), columns=df.columns)"
      ],
      "metadata": {
        "id": "htc3pI4bEa7r"
      },
      "execution_count": 4,
      "outputs": []
    },
    {
      "cell_type": "code",
      "source": [
        "# Seleção de atributos e target\n",
        "X = df_imputed.drop(columns=['DATE_DIED', 'CLASIFFICATION_FINAL'])\n",
        "y = df_imputed['CLASIFFICATION_FINAL'].apply(lambda x: 1 if x < 4 else 0)  # 1: risco alto, 0: risco baixo"
      ],
      "metadata": {
        "id": "6npNw9CvEfic"
      },
      "execution_count": 5,
      "outputs": []
    },
    {
      "cell_type": "code",
      "source": [
        "# Divisão em treino e teste\n",
        "X_train, X_test, y_train, y_test = train_test_split(X, y, test_size=0.2, random_state=42)"
      ],
      "metadata": {
        "id": "fNTlVzt9E_pZ"
      },
      "execution_count": 6,
      "outputs": []
    },
    {
      "cell_type": "code",
      "source": [
        "# Imputation of missing values before scaling\n",
        "from sklearn.impute import SimpleImputer\n",
        "imputer = SimpleImputer(strategy='mean') # You can choose a different strategy if needed\n",
        "X_train = imputer.fit_transform(X_train)\n",
        "X_test = imputer.transform(X_test)"
      ],
      "metadata": {
        "id": "GkQs2zMrH7eQ"
      },
      "execution_count": 7,
      "outputs": []
    },
    {
      "cell_type": "code",
      "source": [
        "# Normalização\n",
        "scaler = StandardScaler()\n",
        "X_train = scaler.fit_transform(X_train)\n",
        "X_test = scaler.transform(X_test)"
      ],
      "metadata": {
        "id": "F30p3E7gFJYV"
      },
      "execution_count": 8,
      "outputs": []
    },
    {
      "cell_type": "code",
      "source": [
        "# Verificar se há valores faltantes após a imputação\n",
        "print(\"Verificação de valores faltantes:\")\n",
        "print(\"Valores faltantes em X_train:\", pd.isnull(X_train).sum().sum())\n",
        "print(\"Valores faltantes em X_test:\", pd.isnull(X_test).sum().sum())"
      ],
      "metadata": {
        "colab": {
          "base_uri": "https://localhost:8080/"
        },
        "id": "ZZxjThcAGMcf",
        "outputId": "09755a9d-6f3f-4e6d-c5e8-ba257e4b97ec"
      },
      "execution_count": 9,
      "outputs": [
        {
          "output_type": "stream",
          "name": "stdout",
          "text": [
            "Verificação de valores faltantes:\n",
            "Valores faltantes em X_train: 0\n",
            "Valores faltantes em X_test: 0\n"
          ]
        }
      ]
    },
    {
      "cell_type": "markdown",
      "source": [
        "# Árvore de Decisão CART (padrão)"
      ],
      "metadata": {
        "id": "HvvdKNakFPUw"
      }
    },
    {
      "cell_type": "code",
      "source": [
        "# Treinamento\n",
        "cart = DecisionTreeClassifier()\n",
        "cart.fit(X_train, y_train) # Use the fit method to train the model\n",
        "\n",
        "# Avaliação\n",
        "y_pred = cart.predict(X_test)\n",
        "print(\"Árvore de Decisão CART\")\n",
        "print(classification_report(y_test, y_pred))\n"
      ],
      "metadata": {
        "colab": {
          "base_uri": "https://localhost:8080/"
        },
        "id": "oWldEVUmFV_T",
        "outputId": "fc550477-ab99-445d-ffc0-232be532106d"
      },
      "execution_count": 10,
      "outputs": [
        {
          "output_type": "stream",
          "name": "stdout",
          "text": [
            "Árvore de Decisão CART\n",
            "              precision    recall  f1-score   support\n",
            "\n",
            "           0       0.67      0.89      0.76    131424\n",
            "           1       0.58      0.25      0.35     78291\n",
            "\n",
            "    accuracy                           0.65    209715\n",
            "   macro avg       0.62      0.57      0.56    209715\n",
            "weighted avg       0.64      0.65      0.61    209715\n",
            "\n"
          ]
        }
      ]
    },
    {
      "cell_type": "markdown",
      "source": [
        "# Support Vector Machine (padrão)"
      ],
      "metadata": {
        "id": "9QkIyZIRIEdh"
      }
    },
    {
      "cell_type": "code",
      "source": [
        "# Treinamento\n",
        "svm = SVC()\n",
        "svm.fit(X_train, y_train)\n",
        "\n",
        "# Avaliação\n",
        "y_pred = svm.predict(X_test)\n",
        "print(\"Support Vector Machine (padrão)\")\n",
        "print(classification_report(y_test, y_pred))"
      ],
      "metadata": {
        "id": "Rdaxs2TIIMLm"
      },
      "execution_count": null,
      "outputs": []
    },
    {
      "cell_type": "markdown",
      "source": [
        "# Support Vector Machine (mudando o kernel por outro)"
      ],
      "metadata": {
        "id": "kMhrjP7GMYoo"
      }
    },
    {
      "cell_type": "code",
      "source": [
        "# Treinamento\n",
        "svm_poly = SVC(kernel='poly')\n",
        "svm_poly.fit(X_train, y_train)\n",
        "\n",
        "# Avaliação\n",
        "y_pred = svm_poly.predict(X_test)\n",
        "print(\"Support Vector Machine (kernel poli)\")\n",
        "print(classification_report(y_test, y_pred))"
      ],
      "metadata": {
        "id": "Ds0-9V3pMX1t"
      },
      "execution_count": null,
      "outputs": []
    },
    {
      "cell_type": "markdown",
      "source": [
        "# KNN (padrão)"
      ],
      "metadata": {
        "id": "8F09P9KIMdOb"
      }
    },
    {
      "cell_type": "code",
      "source": [
        "# Treinamento\n",
        "knn = KNeighborsClassifier()\n",
        "knn.fit(X_train, y_train)\n",
        "\n",
        "# Avaliação\n",
        "y_pred = knn.predict(X_test)\n",
        "print(\"KNN (padrão)\")\n",
        "print(classification_report(y_test, y_pred))"
      ],
      "metadata": {
        "id": "ginDwVsOMepA"
      },
      "execution_count": null,
      "outputs": []
    },
    {
      "cell_type": "markdown",
      "source": [
        "# KNN (mudando o valor de k)"
      ],
      "metadata": {
        "id": "devKnARYMiYK"
      }
    },
    {
      "cell_type": "code",
      "source": [
        "# Treinamento\n",
        "knn_k5 = KNeighborsClassifier(n_neighbors=5)\n",
        "knn_k5.fit(X_train, y_train)\n",
        "\n",
        "# Avaliação\n",
        "y_pred = knn_k5.predict(X_test)\n",
        "print(\"KNN (k=5)\")\n",
        "print(classification_report(y_test, y_pred))"
      ],
      "metadata": {
        "id": "p51-__90Mjip"
      },
      "execution_count": null,
      "outputs": []
    }
  ]
}