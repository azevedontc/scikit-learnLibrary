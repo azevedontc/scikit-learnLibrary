{
  "nbformat": 4,
  "nbformat_minor": 0,
  "metadata": {
    "colab": {
      "provenance": []
    },
    "kernelspec": {
      "name": "python3",
      "display_name": "Python 3"
    },
    "language_info": {
      "name": "python"
    }
  },
  "cells": [
    {
      "cell_type": "markdown",
      "source": [
        "# Importações e Preparação do Dataset"
      ],
      "metadata": {
        "id": "26cWG_ciKyBD"
      }
    },
    {
      "cell_type": "code",
      "execution_count": 1,
      "metadata": {
        "id": "cfbabz8RCKGF"
      },
      "outputs": [],
      "source": [
        "# Importações necessárias\n",
        "import pandas as pd\n",
        "from sklearn.model_selection import train_test_split\n",
        "from sklearn.preprocessing import StandardScaler\n",
        "from sklearn.metrics import classification_report\n",
        "from sklearn.tree import DecisionTreeClassifier\n",
        "from sklearn.svm import SVC\n",
        "from sklearn.neighbors import KNeighborsClassifier\n",
        "from sklearn.naive_bayes import GaussianNB, CategoricalNB\n",
        "from sklearn.linear_model import LinearRegression, Perceptron\n",
        "from sklearn.impute import SimpleImputer\n",
        "from sklearn.pipeline import Pipeline\n",
        "from sklearn.preprocessing import OrdinalEncoder"
      ]
    },
    {
      "cell_type": "code",
      "source": [
        "# Carregar o dataset\n",
        "df = pd.read_csv(\"Covid Data.csv\")"
      ],
      "metadata": {
        "id": "asiIUmvkEFJ-"
      },
      "execution_count": 2,
      "outputs": []
    },
    {
      "cell_type": "code",
      "source": [
        "# Usei para não errar o nome das colunas no pré-processamento\n",
        "print(df.columns)"
      ],
      "metadata": {
        "colab": {
          "base_uri": "https://localhost:8080/"
        },
        "id": "cD_w-kG8Es8u",
        "outputId": "599fdeff-3dc0-4507-dfb5-961a6357af68"
      },
      "execution_count": 3,
      "outputs": [
        {
          "output_type": "stream",
          "name": "stdout",
          "text": [
            "Index(['USMER', 'MEDICAL_UNIT', 'SEX', 'PATIENT_TYPE', 'DATE_DIED', 'INTUBED',\n",
            "       'PNEUMONIA', 'AGE', 'PREGNANT', 'DIABETES', 'COPD', 'ASTHMA', 'INMSUPR',\n",
            "       'HIPERTENSION', 'OTHER_DISEASE', 'CARDIOVASCULAR', 'OBESITY',\n",
            "       'RENAL_CHRONIC', 'TOBACCO', 'CLASIFFICATION_FINAL', 'ICU'],\n",
            "      dtype='object')\n"
          ]
        }
      ]
    },
    {
      "cell_type": "markdown",
      "source": [
        "# Pré-processamento"
      ],
      "metadata": {
        "id": "u702v-_VG2Ir"
      }
    },
    {
      "cell_type": "code",
      "source": [
        "# Substituir valores específicos por NaN\n",
        "df.replace({97: None, 99: None, '9999-99-99': None}, inplace=True)\n",
        "\n",
        "# Verificar e imputar valores faltantes\n",
        "imputer = SimpleImputer(strategy='most_frequent')\n",
        "df_imputed = pd.DataFrame(imputer.fit_transform(df), columns=df.columns)"
      ],
      "metadata": {
        "id": "htc3pI4bEa7r"
      },
      "execution_count": 4,
      "outputs": []
    },
    {
      "cell_type": "code",
      "source": [
        "# Seleção de atributos e target\n",
        "X = df_imputed.drop(columns=['DATE_DIED', 'CLASIFFICATION_FINAL'])\n",
        "y = df_imputed['CLASIFFICATION_FINAL'].apply(lambda x: 1 if x < 4 else 0)  # 1: risco alto, 0: risco baixo"
      ],
      "metadata": {
        "id": "6npNw9CvEfic"
      },
      "execution_count": 5,
      "outputs": []
    },
    {
      "cell_type": "code",
      "source": [
        "# Divisão em treino e teste\n",
        "X_train, X_test, y_train, y_test = train_test_split(X, y, test_size=0.2, random_state=42)"
      ],
      "metadata": {
        "id": "fNTlVzt9E_pZ"
      },
      "execution_count": 6,
      "outputs": []
    },
    {
      "cell_type": "code",
      "source": [
        "# Função para treinar e avaliar os modelos\n",
        "def train_and_evaluate_model(model, X_train, y_train, X_test, y_test, model_name):\n",
        "    model.fit(X_train, y_train)\n",
        "    y_pred = model.predict(X_test)\n",
        "    print(f\"{model_name}\")\n",
        "    print(classification_report(y_test, y_pred))"
      ],
      "metadata": {
        "id": "GkQs2zMrH7eQ"
      },
      "execution_count": 7,
      "outputs": []
    },
    {
      "cell_type": "code",
      "source": [
        "# Modelos que precisam de normalização\n",
        "models_to_normalize = {\n",
        "    \"Support Vector Machine (padrão)\": SVC(),\n",
        "    \"Support Vector Machine (kernel poli)\": SVC(kernel='poly'),\n",
        "    \"KNN (padrão)\": KNeighborsClassifier(),\n",
        "    \"KNN (k=5)\": KNeighborsClassifier(n_neighbors=5),\n",
        "    \"KNN (métrica minkowski)\": KNeighborsClassifier(metric='minkowski'),\n",
        "    \"Perceptron\": Perceptron()\n",
        "}"
      ],
      "metadata": {
        "id": "ngcWbOlCTyid"
      },
      "execution_count": null,
      "outputs": []
    },
    {
      "cell_type": "code",
      "source": [
        "# Normalização\n",
        "scaler = StandardScaler()\n",
        "X_train = scaler.fit_transform(X_train)\n",
        "X_test = scaler.transform(X_test)\n",
        "\n",
        "for model_name, model in models_to_normalize.items():\n",
        "    train_and_evaluate_model(model, X_train_scaled, y_train, X_test_scaled, y_test, model_name)"
      ],
      "metadata": {
        "id": "F30p3E7gFJYV"
      },
      "execution_count": 8,
      "outputs": []
    },
    {
      "cell_type": "code",
      "source": [
        "# Modelos que não precisam de normalização\n",
        "models_no_normalize = {\n",
        "    \"Árvore de Decisão CART\": DecisionTreeClassifier(),\n",
        "    \"Gaussian Naive Bayes (padrão)\": GaussianNB(),\n",
        "    \"Linear Discriminant Analysis (LDA)\": LinearDiscriminantAnalysis()\n",
        "}\n",
        "\n",
        "for model_name, model in models_no_normalize.items():\n",
        "    train_and_evaluate_model(model, X_train, y_train, X_test, y_test, model_name)"
      ],
      "metadata": {
        "id": "yzC5DnmfT-yA"
      },
      "execution_count": null,
      "outputs": []
    },
    {
      "cell_type": "code",
      "source": [
        "# Pré-processamento para Categorical Naive Bayes\n",
        "categorical_features = X.select_dtypes(include=['object', 'category']).columns\n",
        "numerical_features = X.select_dtypes(exclude=['object', 'category']).columns\n",
        "\n",
        "categorical_transformer = Pipeline(steps=[\n",
        "    ('imputer', SimpleImputer(strategy='most_frequent')),\n",
        "    ('encoder', OrdinalEncoder())\n",
        "])\n",
        "\n",
        "X_cat = categorical_transformer.fit_transform(X[categorical_features])\n",
        "y_cat = y.copy()  # Target remains the same"
      ],
      "metadata": {
        "id": "osSIezJ5UFB9"
      },
      "execution_count": null,
      "outputs": []
    },
    {
      "cell_type": "code",
      "source": [
        "# Divisão em treino e teste para os dados categóricos\n",
        "X_train_cat, X_test_cat, y_train_cat, y_test_cat = train_test_split(X_cat, y_cat, test_size=0.2, random_state=42)\n",
        "\n",
        "cat_nb = CategoricalNB()\n",
        "train_and_evaluate_model(cat_nb, X_train_cat, y_train_cat, X_test_cat, y_test_cat, \"Categorical Naive Bayes (padrão)\")"
      ],
      "metadata": {
        "id": "qLD5HKfZUSeW"
      },
      "execution_count": null,
      "outputs": []
    },
    {
      "cell_type": "code",
      "source": [
        "# Verificar se há valores faltantes após a imputação\n",
        "print(\"Verificação de valores faltantes:\")\n",
        "print(\"Valores faltantes em X_train:\", pd.isnull(X_train).sum().sum())\n",
        "print(\"Valores faltantes em X_test:\", pd.isnull(X_test).sum().sum())"
      ],
      "metadata": {
        "colab": {
          "base_uri": "https://localhost:8080/"
        },
        "id": "ZZxjThcAGMcf",
        "outputId": "18029c46-3c8f-4129-b4b9-d0334936f2c6"
      },
      "execution_count": 9,
      "outputs": [
        {
          "output_type": "stream",
          "name": "stdout",
          "text": [
            "Verificação de valores faltantes:\n",
            "Valores faltantes em X_train: 0\n",
            "Valores faltantes em X_test: 0\n"
          ]
        }
      ]
    },
    {
      "cell_type": "code",
      "source": [
        "# Função para treinar e avaliar os modelos\n",
        "def train_and_evaluate_model(model, X_train, y_train, X_test, y_test, model_name):\n",
        "    model.fit(X_train, y_train)\n",
        "    y_pred = model.predict(X_test)\n",
        "    print(f\"{model_name}\")\n",
        "    print(classification_report(y_test, y_pred))"
      ],
      "metadata": {
        "id": "BudGXsakrCof"
      },
      "execution_count": 10,
      "outputs": []
    },
    {
      "cell_type": "markdown",
      "source": [
        "# Árvore de Decisão CART (padrão)"
      ],
      "metadata": {
        "id": "HvvdKNakFPUw"
      }
    },
    {
      "cell_type": "code",
      "source": [
        "cart = DecisionTreeClassifier()\n",
        "train_and_evaluate_model(cart, X_train, y_train, X_test, y_test, \"Árvore de Decisão CART\")\n"
      ],
      "metadata": {
        "colab": {
          "base_uri": "https://localhost:8080/"
        },
        "id": "oWldEVUmFV_T",
        "outputId": "744f5a56-e564-42a8-c973-ff2926a1dc18"
      },
      "execution_count": 11,
      "outputs": [
        {
          "output_type": "stream",
          "name": "stdout",
          "text": [
            "Árvore de Decisão CART\n",
            "              precision    recall  f1-score   support\n",
            "\n",
            "           0       0.67      0.89      0.76    131424\n",
            "           1       0.58      0.25      0.35     78291\n",
            "\n",
            "    accuracy                           0.65    209715\n",
            "   macro avg       0.62      0.57      0.56    209715\n",
            "weighted avg       0.64      0.65      0.61    209715\n",
            "\n"
          ]
        }
      ]
    },
    {
      "cell_type": "markdown",
      "source": [
        "# Support Vector Machine (padrão)"
      ],
      "metadata": {
        "id": "9QkIyZIRIEdh"
      }
    },
    {
      "cell_type": "code",
      "source": [
        "svm = SVC()\n",
        "train_and_evaluate_model(svm, X_train, y_train, X_test, y_test, \"Support Vector Machine (padrão)\")"
      ],
      "metadata": {
        "id": "Rdaxs2TIIMLm"
      },
      "execution_count": null,
      "outputs": []
    },
    {
      "cell_type": "markdown",
      "source": [
        "# Support Vector Machine (mudando o kernel por outro)"
      ],
      "metadata": {
        "id": "kMhrjP7GMYoo"
      }
    },
    {
      "cell_type": "code",
      "source": [
        "svm_poly = SVC(kernel='poly')\n",
        "train_and_evaluate_model(svm_poly, X_train, y_train, X_test, y_test, \"Support Vector Machine (kernel poli)\")"
      ],
      "metadata": {
        "id": "Ds0-9V3pMX1t"
      },
      "execution_count": null,
      "outputs": []
    },
    {
      "cell_type": "markdown",
      "source": [
        "# KNN (padrão)"
      ],
      "metadata": {
        "id": "8F09P9KIMdOb"
      }
    },
    {
      "cell_type": "code",
      "source": [
        "knn = KNeighborsClassifier()\n",
        "train_and_evaluate_model(knn, X_train, y_train, X_test, y_test, \"KNN (padrão)\")"
      ],
      "metadata": {
        "id": "ginDwVsOMepA"
      },
      "execution_count": null,
      "outputs": []
    },
    {
      "cell_type": "markdown",
      "source": [
        "# KNN (mudando o valor de k)"
      ],
      "metadata": {
        "id": "devKnARYMiYK"
      }
    },
    {
      "cell_type": "code",
      "source": [
        "knn_k5 = KNeighborsClassifier(n_neighbors=5)\n",
        "train_and_evaluate_model(knn_k5, X_train, y_train, X_test, y_test, \"KNN (k=5)\")"
      ],
      "metadata": {
        "id": "p51-__90Mjip"
      },
      "execution_count": null,
      "outputs": []
    },
    {
      "cell_type": "markdown",
      "source": [
        "# KNN (mudando a medida de distância)"
      ],
      "metadata": {
        "id": "HgtusT_rsVJd"
      }
    },
    {
      "cell_type": "code",
      "source": [
        "knn_minkowski = KNeighborsClassifier(metric='minkowski')\n",
        "train_and_evaluate_model(knn_minkowski, X_train, y_train, X_test, y_test, \"KNN (métrica minkowski)\")"
      ],
      "metadata": {
        "id": "kYpXicK1sWe2"
      },
      "execution_count": null,
      "outputs": []
    },
    {
      "cell_type": "markdown",
      "source": [
        "# Gaussian Naive Bayes (padrão)"
      ],
      "metadata": {
        "id": "OCAtiHwtscfA"
      }
    },
    {
      "cell_type": "code",
      "source": [
        "gnb = GaussianNB()\n",
        "train_and_evaluate_model(gnb, X_train, y_train, X_test, y_test, \"Gaussian Naive Bayes (padrão)\")"
      ],
      "metadata": {
        "id": "BdfMd4uIsaoI"
      },
      "execution_count": null,
      "outputs": []
    },
    {
      "cell_type": "markdown",
      "source": [
        "# Categorical Naive Bayes (padrão), considerando todos os atributos categóricos"
      ],
      "metadata": {
        "id": "VJto2TAOshHJ"
      }
    },
    {
      "cell_type": "code",
      "source": [
        "# Pré-processamento para Categorical Naive Bayes\n",
        "categorical_transformer = Pipeline(steps=[\n",
        "    ('imputer', SimpleImputer(strategy='most_frequent')),\n",
        "    ('encoder', OrdinalEncoder())\n",
        "])\n",
        "\n",
        "X_cat_imputed = categorical_transformer.fit_transform(X_cat)\n",
        "\n",
        "# Divisão em treino e teste para os dados categóricos\n",
        "X_train_cat, X_test_cat, y_train_cat, y_test_cat = train_test_split(X_cat_imputed, y, test_size=0.2, random_state=42)\n",
        "\n",
        "cat_nb = CategoricalNB()\n",
        "train_and_evaluate_model(cat_nb, X_train_cat, y_train_cat, X_test_cat, y_test_cat, \"Categorical Naive Bayes (padrão)\")"
      ],
      "metadata": {
        "id": "BbrebU5IstjW"
      },
      "execution_count": null,
      "outputs": []
    },
    {
      "cell_type": "markdown",
      "source": [
        "# 1.9 Regressão Linear (quadrados mínimos), regressão Linear não é adequada para classificação binária, então usamos LinearDiscriminantAnalysis"
      ],
      "metadata": {
        "id": "4NuVE3lHtG8A"
      }
    },
    {
      "cell_type": "code",
      "source": [
        "from sklearn.discriminant_analysis import LinearDiscriminantAnalysis\n",
        "lda = LinearDiscriminantAnalysis()\n",
        "train_and_evaluate_model(lda, X_train, y_train, X_test, y_test, \"Linear Discriminant Analysis (LDA)\")"
      ],
      "metadata": {
        "id": "YYhWwh2gtHW9"
      },
      "execution_count": null,
      "outputs": []
    },
    {
      "cell_type": "markdown",
      "source": [
        "# Perceptron"
      ],
      "metadata": {
        "id": "09tzaMm_PrzB"
      }
    },
    {
      "cell_type": "code",
      "source": [
        "perceptron = Perceptron()\n",
        "train_and_evaluate_model(perceptron, X_train, y_train, X_test, y_test, \"Perceptron\")"
      ],
      "metadata": {
        "id": "NwG5Ejw-Psda"
      },
      "execution_count": null,
      "outputs": []
    }
  ]
}