{
  "nbformat": 4,
  "nbformat_minor": 0,
  "metadata": {
    "colab": {
      "provenance": []
    },
    "kernelspec": {
      "name": "python3",
      "display_name": "Python 3"
    },
    "language_info": {
      "name": "python"
    }
  },
  "cells": [
    {
      "cell_type": "markdown",
      "source": [
        "# Importações e Preparação do Dataset"
      ],
      "metadata": {
        "id": "26cWG_ciKyBD"
      }
    },
    {
      "cell_type": "code",
      "execution_count": 23,
      "metadata": {
        "id": "cfbabz8RCKGF"
      },
      "outputs": [],
      "source": [
        "# Importações necessárias\n",
        "import pandas as pd\n",
        "from sklearn.model_selection import train_test_split\n",
        "from sklearn.preprocessing import StandardScaler\n",
        "from sklearn.metrics import classification_report\n",
        "from sklearn.tree import DecisionTreeClassifier\n",
        "from sklearn.svm import SVC\n",
        "from sklearn.neighbors import KNeighborsClassifier\n",
        "from sklearn.naive_bayes import GaussianNB, CategoricalNB\n",
        "from sklearn.linear_model import LinearRegression, Perceptron\n",
        "from sklearn.impute import SimpleImputer\n",
        "from sklearn.pipeline import Pipeline\n",
        "from sklearn.preprocessing import OrdinalEncoder"
      ]
    },
    {
      "cell_type": "code",
      "source": [
        "# Carregar o dataset\n",
        "df = pd.read_csv(\"Covid Data.csv\")"
      ],
      "metadata": {
        "id": "asiIUmvkEFJ-"
      },
      "execution_count": 3,
      "outputs": []
    },
    {
      "cell_type": "code",
      "source": [
        "# Usei para não errar o nome das colunas no pré-processamento\n",
        "print(df.columns)"
      ],
      "metadata": {
        "colab": {
          "base_uri": "https://localhost:8080/"
        },
        "id": "cD_w-kG8Es8u",
        "outputId": "109281d0-4cd5-4ba1-91da-1e7bc8a601eb"
      },
      "execution_count": 4,
      "outputs": [
        {
          "output_type": "stream",
          "name": "stdout",
          "text": [
            "Index(['USMER', 'MEDICAL_UNIT', 'SEX', 'PATIENT_TYPE', 'DATE_DIED', 'INTUBED',\n",
            "       'PNEUMONIA', 'AGE', 'PREGNANT', 'DIABETES', 'COPD', 'ASTHMA', 'INMSUPR',\n",
            "       'HIPERTENSION', 'OTHER_DISEASE', 'CARDIOVASCULAR', 'OBESITY',\n",
            "       'RENAL_CHRONIC', 'TOBACCO', 'CLASIFFICATION_FINAL', 'ICU'],\n",
            "      dtype='object')\n"
          ]
        }
      ]
    },
    {
      "cell_type": "markdown",
      "source": [
        "# Pré-processamento"
      ],
      "metadata": {
        "id": "u702v-_VG2Ir"
      }
    },
    {
      "cell_type": "code",
      "source": [
        "# Substituir valores específicos por NaN\n",
        "df.replace({97: None, 99: None, '9999-99-99': None}, inplace=True)\n",
        "\n",
        "# Verificar e imputar valores faltantes\n",
        "imputer = SimpleImputer(strategy='most_frequent')\n",
        "df_imputed = pd.DataFrame(imputer.fit_transform(df), columns=df.columns)"
      ],
      "metadata": {
        "id": "htc3pI4bEa7r"
      },
      "execution_count": 5,
      "outputs": []
    },
    {
      "cell_type": "code",
      "source": [
        "# Seleção de atributos e target\n",
        "X = df_imputed.drop(columns=['DATE_DIED', 'CLASIFFICATION_FINAL'])\n",
        "y = df_imputed['CLASIFFICATION_FINAL'].apply(lambda x: 1 if x < 4 else 0)  # 1: risco alto, 0: risco baixo"
      ],
      "metadata": {
        "id": "6npNw9CvEfic"
      },
      "execution_count": 6,
      "outputs": []
    },
    {
      "cell_type": "code",
      "source": [
        "# Divisão em treino e teste\n",
        "X_train, X_test, y_train, y_test = train_test_split(X, y, test_size=0.2, random_state=42)"
      ],
      "metadata": {
        "id": "fNTlVzt9E_pZ"
      },
      "execution_count": 7,
      "outputs": []
    },
    {
      "cell_type": "code",
      "source": [
        "# Imputation of missing values before scaling\n",
        "imputer = SimpleImputer(strategy='mean') # You can choose a different strategy if needed\n",
        "X_train = imputer.fit_transform(X_train)\n",
        "X_test = imputer.transform(X_test)"
      ],
      "metadata": {
        "id": "GkQs2zMrH7eQ"
      },
      "execution_count": 8,
      "outputs": []
    },
    {
      "cell_type": "code",
      "source": [
        "# Normalização\n",
        "scaler = StandardScaler()\n",
        "X_train = scaler.fit_transform(X_train)\n",
        "X_test = scaler.transform(X_test)"
      ],
      "metadata": {
        "id": "F30p3E7gFJYV"
      },
      "execution_count": 9,
      "outputs": []
    },
    {
      "cell_type": "code",
      "source": [
        "# Verificar se há valores faltantes após a imputação\n",
        "print(\"Verificação de valores faltantes:\")\n",
        "print(\"Valores faltantes em X_train:\", pd.isnull(X_train).sum().sum())\n",
        "print(\"Valores faltantes em X_test:\", pd.isnull(X_test).sum().sum())"
      ],
      "metadata": {
        "colab": {
          "base_uri": "https://localhost:8080/"
        },
        "id": "ZZxjThcAGMcf",
        "outputId": "fc207b91-b3bb-4db7-d34f-7f8870a62063"
      },
      "execution_count": 10,
      "outputs": [
        {
          "output_type": "stream",
          "name": "stdout",
          "text": [
            "Verificação de valores faltantes:\n",
            "Valores faltantes em X_train: 0\n",
            "Valores faltantes em X_test: 0\n"
          ]
        }
      ]
    },
    {
      "cell_type": "code",
      "source": [
        "# Função para treinar e avaliar os modelos\n",
        "def train_and_evaluate_model(model, X_train, y_train, X_test, y_test, model_name):\n",
        "    model.fit(X_train, y_train)\n",
        "    y_pred = model.predict(X_test)\n",
        "    print(f\"{model_name}\")\n",
        "    print(classification_report(y_test, y_pred))"
      ],
      "metadata": {
        "id": "BudGXsakrCof"
      },
      "execution_count": 11,
      "outputs": []
    },
    {
      "cell_type": "markdown",
      "source": [
        "# Árvore de Decisão CART (padrão)"
      ],
      "metadata": {
        "id": "HvvdKNakFPUw"
      }
    },
    {
      "cell_type": "code",
      "source": [
        "cart = DecisionTreeClassifier()\n",
        "train_and_evaluate_model(cart, X_train, y_train, X_test, y_test, \"Árvore de Decisão CART\")\n"
      ],
      "metadata": {
        "colab": {
          "base_uri": "https://localhost:8080/"
        },
        "id": "oWldEVUmFV_T",
        "outputId": "415471f6-341f-4f44-c7a2-f18ec6ff9111"
      },
      "execution_count": 12,
      "outputs": [
        {
          "output_type": "stream",
          "name": "stdout",
          "text": [
            "Árvore de Decisão CART\n",
            "              precision    recall  f1-score   support\n",
            "\n",
            "           0       0.54      0.64      0.59      3614\n",
            "           1       0.62      0.52      0.57      4084\n",
            "\n",
            "    accuracy                           0.58      7698\n",
            "   macro avg       0.58      0.58      0.58      7698\n",
            "weighted avg       0.59      0.58      0.58      7698\n",
            "\n"
          ]
        }
      ]
    },
    {
      "cell_type": "markdown",
      "source": [
        "# Support Vector Machine (padrão)"
      ],
      "metadata": {
        "id": "9QkIyZIRIEdh"
      }
    },
    {
      "cell_type": "code",
      "source": [
        "svm = SVC()\n",
        "train_and_evaluate_model(svm, X_train, y_train, X_test, y_test, \"Support Vector Machine (padrão)\")"
      ],
      "metadata": {
        "colab": {
          "base_uri": "https://localhost:8080/"
        },
        "id": "Rdaxs2TIIMLm",
        "outputId": "a29792ef-05f8-4c00-d5f5-6647e7514112"
      },
      "execution_count": 13,
      "outputs": [
        {
          "output_type": "stream",
          "name": "stdout",
          "text": [
            "Support Vector Machine (padrão)\n",
            "              precision    recall  f1-score   support\n",
            "\n",
            "           0       0.61      0.60      0.61      3614\n",
            "           1       0.65      0.66      0.66      4084\n",
            "\n",
            "    accuracy                           0.63      7698\n",
            "   macro avg       0.63      0.63      0.63      7698\n",
            "weighted avg       0.63      0.63      0.63      7698\n",
            "\n"
          ]
        }
      ]
    },
    {
      "cell_type": "markdown",
      "source": [
        "# Support Vector Machine (mudando o kernel por outro)"
      ],
      "metadata": {
        "id": "kMhrjP7GMYoo"
      }
    },
    {
      "cell_type": "code",
      "source": [
        "svm_poly = SVC(kernel='poly')\n",
        "train_and_evaluate_model(svm_poly, X_train, y_train, X_test, y_test, \"Support Vector Machine (kernel poli)\")"
      ],
      "metadata": {
        "colab": {
          "base_uri": "https://localhost:8080/"
        },
        "id": "Ds0-9V3pMX1t",
        "outputId": "873827fe-4a70-4a02-c226-b64cd7862727"
      },
      "execution_count": 14,
      "outputs": [
        {
          "output_type": "stream",
          "name": "stdout",
          "text": [
            "Support Vector Machine (kernel poli)\n",
            "              precision    recall  f1-score   support\n",
            "\n",
            "           0       0.59      0.64      0.61      3614\n",
            "           1       0.65      0.61      0.63      4084\n",
            "\n",
            "    accuracy                           0.62      7698\n",
            "   macro avg       0.62      0.62      0.62      7698\n",
            "weighted avg       0.62      0.62      0.62      7698\n",
            "\n"
          ]
        }
      ]
    },
    {
      "cell_type": "markdown",
      "source": [
        "# KNN (padrão)"
      ],
      "metadata": {
        "id": "8F09P9KIMdOb"
      }
    },
    {
      "cell_type": "code",
      "source": [
        "knn = KNeighborsClassifier()\n",
        "train_and_evaluate_model(knn, X_train, y_train, X_test, y_test, \"KNN (padrão)\")"
      ],
      "metadata": {
        "colab": {
          "base_uri": "https://localhost:8080/"
        },
        "id": "ginDwVsOMepA",
        "outputId": "d3ddc241-db3a-4957-86db-943bd4cc1971"
      },
      "execution_count": 15,
      "outputs": [
        {
          "output_type": "stream",
          "name": "stdout",
          "text": [
            "KNN (padrão)\n",
            "              precision    recall  f1-score   support\n",
            "\n",
            "           0       0.57      0.54      0.55      3614\n",
            "           1       0.61      0.64      0.62      4084\n",
            "\n",
            "    accuracy                           0.59      7698\n",
            "   macro avg       0.59      0.59      0.59      7698\n",
            "weighted avg       0.59      0.59      0.59      7698\n",
            "\n"
          ]
        }
      ]
    },
    {
      "cell_type": "markdown",
      "source": [
        "# KNN (mudando o valor de k)"
      ],
      "metadata": {
        "id": "devKnARYMiYK"
      }
    },
    {
      "cell_type": "code",
      "source": [
        "knn_k5 = KNeighborsClassifier(n_neighbors=5)\n",
        "train_and_evaluate_model(knn_k5, X_train, y_train, X_test, y_test, \"KNN (k=5)\")"
      ],
      "metadata": {
        "colab": {
          "base_uri": "https://localhost:8080/"
        },
        "id": "p51-__90Mjip",
        "outputId": "0d67fc86-8c60-438c-ccd5-49c4a4aad2ce"
      },
      "execution_count": 16,
      "outputs": [
        {
          "output_type": "stream",
          "name": "stdout",
          "text": [
            "KNN (k=5)\n",
            "              precision    recall  f1-score   support\n",
            "\n",
            "           0       0.57      0.54      0.55      3614\n",
            "           1       0.61      0.64      0.62      4084\n",
            "\n",
            "    accuracy                           0.59      7698\n",
            "   macro avg       0.59      0.59      0.59      7698\n",
            "weighted avg       0.59      0.59      0.59      7698\n",
            "\n"
          ]
        }
      ]
    },
    {
      "cell_type": "markdown",
      "source": [
        "# KNN (mudando a medida de distância)"
      ],
      "metadata": {
        "id": "HgtusT_rsVJd"
      }
    },
    {
      "cell_type": "code",
      "source": [
        "knn_minkowski = KNeighborsClassifier(metric='minkowski')\n",
        "train_and_evaluate_model(knn_minkowski, X_train, y_train, X_test, y_test, \"KNN (métrica minkowski)\")"
      ],
      "metadata": {
        "colab": {
          "base_uri": "https://localhost:8080/"
        },
        "id": "kYpXicK1sWe2",
        "outputId": "c8588ad7-7883-4311-8929-ce5c9c3ec092"
      },
      "execution_count": 17,
      "outputs": [
        {
          "output_type": "stream",
          "name": "stdout",
          "text": [
            "KNN (métrica minkowski)\n",
            "              precision    recall  f1-score   support\n",
            "\n",
            "           0       0.57      0.54      0.55      3614\n",
            "           1       0.61      0.64      0.62      4084\n",
            "\n",
            "    accuracy                           0.59      7698\n",
            "   macro avg       0.59      0.59      0.59      7698\n",
            "weighted avg       0.59      0.59      0.59      7698\n",
            "\n"
          ]
        }
      ]
    },
    {
      "cell_type": "markdown",
      "source": [
        "# Gaussian Naive Bayes (padrão)"
      ],
      "metadata": {
        "id": "OCAtiHwtscfA"
      }
    },
    {
      "cell_type": "code",
      "source": [
        "gnb = GaussianNB()\n",
        "train_and_evaluate_model(gnb, X_train, y_train, X_test, y_test, \"Gaussian Naive Bayes (padrão)\")"
      ],
      "metadata": {
        "colab": {
          "base_uri": "https://localhost:8080/"
        },
        "id": "BdfMd4uIsaoI",
        "outputId": "6bf301c5-a469-410f-bb54-84cf3f7e171f"
      },
      "execution_count": 18,
      "outputs": [
        {
          "output_type": "stream",
          "name": "stdout",
          "text": [
            "Gaussian Naive Bayes (padrão)\n",
            "              precision    recall  f1-score   support\n",
            "\n",
            "           0       0.60      0.50      0.55      3614\n",
            "           1       0.62      0.71      0.66      4084\n",
            "\n",
            "    accuracy                           0.61      7698\n",
            "   macro avg       0.61      0.60      0.60      7698\n",
            "weighted avg       0.61      0.61      0.61      7698\n",
            "\n"
          ]
        }
      ]
    },
    {
      "cell_type": "markdown",
      "source": [
        "# Categorical Naive Bayes (padrão), considerando todos os atributos categóricos"
      ],
      "metadata": {
        "id": "VJto2TAOshHJ"
      }
    },
    {
      "cell_type": "code",
      "source": [
        "# Pré-processamento para Categorical Naive Bayes\n",
        "categorical_transformer = Pipeline(steps=[\n",
        "    ('imputer', SimpleImputer(strategy='most_frequent')),\n",
        "    ('encoder', OrdinalEncoder())\n",
        "])\n",
        "\n",
        "X_cat_imputed = categorical_transformer.fit_transform(X_cat)\n",
        "\n",
        "# Divisão em treino e teste para os dados categóricos\n",
        "X_train_cat, X_test_cat, y_train_cat, y_test_cat = train_test_split(X_cat_imputed, y, test_size=0.2, random_state=42)\n",
        "\n",
        "cat_nb = CategoricalNB()\n",
        "train_and_evaluate_model(cat_nb, X_train_cat, y_train_cat, X_test_cat, y_test_cat, \"Categorical Naive Bayes (padrão)\")"
      ],
      "metadata": {
        "colab": {
          "base_uri": "https://localhost:8080/"
        },
        "id": "BbrebU5IstjW",
        "outputId": "67e646a8-8215-4580-bce1-ec4dc8666b80"
      },
      "execution_count": 28,
      "outputs": [
        {
          "output_type": "stream",
          "name": "stdout",
          "text": [
            "Categorical Naive Bayes (padrão)\n",
            "              precision    recall  f1-score   support\n",
            "\n",
            "           0       1.00      1.00      1.00      3614\n",
            "           1       1.00      1.00      1.00      4084\n",
            "\n",
            "    accuracy                           1.00      7698\n",
            "   macro avg       1.00      1.00      1.00      7698\n",
            "weighted avg       1.00      1.00      1.00      7698\n",
            "\n"
          ]
        }
      ]
    },
    {
      "cell_type": "markdown",
      "source": [
        "# 1.9 Regressão Linear (quadrados mínimos), regressão Linear não é adequada para classificação binária, então usamos LinearDiscriminantAnalysis"
      ],
      "metadata": {
        "id": "4NuVE3lHtG8A"
      }
    },
    {
      "cell_type": "code",
      "source": [
        "from sklearn.discriminant_analysis import LinearDiscriminantAnalysis\n",
        "lda = LinearDiscriminantAnalysis()\n",
        "train_and_evaluate_model(lda, X_train, y_train, X_test, y_test, \"Linear Discriminant Analysis (LDA)\")"
      ],
      "metadata": {
        "colab": {
          "base_uri": "https://localhost:8080/"
        },
        "id": "YYhWwh2gtHW9",
        "outputId": "b5c61ba5-bb38-49ef-b169-86bdca589f87"
      },
      "execution_count": 20,
      "outputs": [
        {
          "output_type": "stream",
          "name": "stdout",
          "text": [
            "Linear Discriminant Analysis (LDA)\n",
            "              precision    recall  f1-score   support\n",
            "\n",
            "           0       0.58      0.63      0.60      3614\n",
            "           1       0.65      0.60      0.62      4084\n",
            "\n",
            "    accuracy                           0.61      7698\n",
            "   macro avg       0.61      0.61      0.61      7698\n",
            "weighted avg       0.61      0.61      0.61      7698\n",
            "\n"
          ]
        }
      ]
    },
    {
      "cell_type": "markdown",
      "source": [
        "# Perceptron"
      ],
      "metadata": {
        "id": "09tzaMm_PrzB"
      }
    },
    {
      "cell_type": "code",
      "source": [
        "perceptron = Perceptron()\n",
        "train_and_evaluate_model(perceptron, X_train, y_train, X_test, y_test, \"Perceptron\")"
      ],
      "metadata": {
        "colab": {
          "base_uri": "https://localhost:8080/"
        },
        "id": "NwG5Ejw-Psda",
        "outputId": "da2bebd8-85fb-459d-cbe4-273faea9352f"
      },
      "execution_count": 21,
      "outputs": [
        {
          "output_type": "stream",
          "name": "stdout",
          "text": [
            "Perceptron\n",
            "              precision    recall  f1-score   support\n",
            "\n",
            "           0       0.45      0.43      0.44      3614\n",
            "           1       0.52      0.53      0.52      4084\n",
            "\n",
            "    accuracy                           0.49      7698\n",
            "   macro avg       0.48      0.48      0.48      7698\n",
            "weighted avg       0.48      0.49      0.49      7698\n",
            "\n"
          ]
        }
      ]
    }
  ]
}